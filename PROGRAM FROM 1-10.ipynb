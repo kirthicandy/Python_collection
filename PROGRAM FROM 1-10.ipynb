{
 "cells": [
  {
   "cell_type": "markdown",
   "id": "ddcdf08c",
   "metadata": {},
   "source": [
    "# 1.Find the missing number for given integer array 1-100"
   ]
  },
  {
   "cell_type": "code",
   "execution_count": 1,
   "id": "c2f6c2e9",
   "metadata": {},
   "outputs": [
    {
     "name": "stdout",
     "output_type": "stream",
     "text": [
      "1.0\n"
     ]
    }
   ],
   "source": [
    "def getMissingNo(N):\n",
    "    n=len(N)\n",
    "    total=(n+1)*(n+2)/2\n",
    "    sum_N=sum(N)\n",
    "    return total-sum_N\n",
    "\n",
    "N=[2,3,4,5,6]\n",
    "missing=getMissingNo(N)\n",
    "print(missing)"
   ]
  },
  {
   "cell_type": "markdown",
   "id": "f61c950a",
   "metadata": {},
   "source": [
    "# 2.Find the duplicates for the given integer array"
   ]
  },
  {
   "cell_type": "code",
   "execution_count": 2,
   "id": "66d83878",
   "metadata": {},
   "outputs": [
    {
     "name": "stdout",
     "output_type": "stream",
     "text": [
      "[2, 3, 4]\n"
     ]
    }
   ],
   "source": [
    "def duplicate(N_list):\n",
    "    return list(set([x for x in N_list if N_list.count(x)>1]))\n",
    "\n",
    "N_list=[1,2,4,3,5,3,6,7,2,4]\n",
    "print(duplicate(N_list))"
   ]
  },
  {
   "cell_type": "markdown",
   "id": "52e01274",
   "metadata": {},
   "source": [
    "# 3.Find the largest and smallest number in an unsorted integer array"
   ]
  },
  {
   "cell_type": "code",
   "execution_count": 3,
   "id": "26be0a1c",
   "metadata": {},
   "outputs": [
    {
     "name": "stdout",
     "output_type": "stream",
     "text": [
      "34\n",
      "1\n"
     ]
    }
   ],
   "source": [
    "N=[3,5,7,2,4,1,8,9,19,34]\n",
    "\n",
    "print(max(N))\n",
    "print(min(N))"
   ]
  },
  {
   "cell_type": "markdown",
   "id": "39a04a1a",
   "metadata": {},
   "source": [
    "# 4.Find all pairs of an integer array whose sum is equal to a given number"
   ]
  },
  {
   "cell_type": "code",
   "execution_count": null,
   "id": "203835b8",
   "metadata": {},
   "outputs": [],
   "source": [
    "list=[2,4,7,9,3,6,1,10,5]\n",
    "\n",
    "n=15\n",
    "\n",
    "for i in range(len(list)-1):\n",
    "    for j in range(i+1,len(list)):\n",
    "        a=list[i]\n",
    "        b=list[j]\n",
    "        \n",
    "        if a+b==n:\n",
    "            print(f\"{a}+{b}={n}\")"
   ]
  },
  {
   "cell_type": "markdown",
   "id": "4f9d7456",
   "metadata": {},
   "source": [
    "# 6. duplicate element removed from given array"
   ]
  },
  {
   "cell_type": "code",
   "execution_count": null,
   "id": "960e67d3",
   "metadata": {},
   "outputs": [],
   "source": [
    "print(\"Enter list of array:\")\n",
    "l=list(map(int, input().split()))\n",
    "l=set(l)\n",
    "l=list(l)\n",
    "for i in range(len(l)):\n",
    "    print(l[i],end=\"\")\n",
    "\n",
    "    "
   ]
  },
  {
   "cell_type": "markdown",
   "id": "5d9572c4",
   "metadata": {},
   "source": [
    "# 7.Perform quicksort algorithm"
   ]
  },
  {
   "cell_type": "code",
   "execution_count": null,
   "id": "84e1606c",
   "metadata": {},
   "outputs": [],
   "source": [
    "def swap(A, i, j):\n",
    " \n",
    "    temp = A[i]\n",
    "    A[i] = A[j]\n",
    "    A[j] = temp\n",
    " \n",
    " \n",
    "# Partition using the Lomuto partition scheme\n",
    "def partition(a, start, end):\n",
    " \n",
    "    # Pick the rightmost element as a pivot from the list\n",
    "    pivot = a[end]\n",
    " \n",
    "    # elements less than the pivot will be pushed to the left of `pIndex`\n",
    "    # elements more than the pivot will be pushed to the right of `pIndex`\n",
    "    # equal elements can go either way\n",
    "    pIndex = start\n",
    " \n",
    "    # each time we find an element less than or equal to the pivot,\n",
    "    # `pIndex` is incremented, and that element would be placed\n",
    "    # before the pivot.\n",
    "    for i in range(start, end):\n",
    "        if a[i] <= pivot:\n",
    "            swap(a, i, pIndex)\n",
    "            pIndex = pIndex + 1\n",
    " \n",
    "    # swap `pIndex` with pivot\n",
    "    swap(a, end, pIndex)\n",
    " \n",
    "    # return `pIndex` (index of the pivot element)\n",
    "    return pIndex\n",
    " \n",
    " \n",
    "# Quicksort routine\n",
    "def quicksort(a, start, end):\n",
    " \n",
    "    # base condition\n",
    "    if start >= end:\n",
    "        return\n",
    " \n",
    "    # rearrange elements across pivot\n",
    "    pivot = partition(a, start, end)\n",
    " \n",
    "    # recur on sublist containing elements less than the pivot\n",
    "    quicksort(a, start, pivot - 1)\n",
    " \n",
    "    # recur on sublist containing elements more than the pivot\n",
    "    quicksort(a, pivot + 1, end)\n",
    " \n",
    " \n",
    "# Python implementation of the Quicksort algorithm\n",
    "if __name__ == '__main__':\n",
    " \n",
    "    a = [9, -3, 5, 2, 6, 8, -6, 1, 3]\n",
    " \n",
    "    quicksort(a, 0, len(a) - 1)\n",
    " \n",
    "    # print the sorted list\n",
    "    print(a)\n"
   ]
  },
  {
   "cell_type": "markdown",
   "id": "febab7e7",
   "metadata": {},
   "source": [
    "# 9.Reverse element in array"
   ]
  },
  {
   "cell_type": "code",
   "execution_count": null,
   "id": "dd990810",
   "metadata": {},
   "outputs": [],
   "source": [
    "array = [1,2,3,4,5,6,7,8,9,0]\n",
    "\n",
    "reverse=array[::-1]\n",
    "print(reverse)"
   ]
  },
  {
   "cell_type": "markdown",
   "id": "9400239c",
   "metadata": {},
   "source": [
    "# 10.Remove duplicates without using library"
   ]
  },
  {
   "cell_type": "code",
   "execution_count": null,
   "id": "183e3ac8",
   "metadata": {},
   "outputs": [],
   "source": [
    "def removeDuplicates(arr):\n",
    "    for i in range(len(arr)-1,0,-1):\n",
    "        if arr[i] == arr[i-1]:\n",
    "            del arr[i]\n",
    "    return arr\n",
    "\n",
    "sort = [1,2,2,3,3,4,5,5,8,8,8,8,9,9,9]\n",
    "\n",
    "print(removeDuplicates(sort))\n"
   ]
  },
  {
   "cell_type": "code",
   "execution_count": null,
   "id": "7c6d858f",
   "metadata": {},
   "outputs": [],
   "source": []
  },
  {
   "cell_type": "code",
   "execution_count": null,
   "id": "fef7b6f0",
   "metadata": {},
   "outputs": [],
   "source": []
  }
 ],
 "metadata": {
  "kernelspec": {
   "display_name": "Python 3 (ipykernel)",
   "language": "python",
   "name": "python3"
  },
  "language_info": {
   "codemirror_mode": {
    "name": "ipython",
    "version": 3
   },
   "file_extension": ".py",
   "mimetype": "text/x-python",
   "name": "python",
   "nbconvert_exporter": "python",
   "pygments_lexer": "ipython3",
   "version": "3.9.12"
  }
 },
 "nbformat": 4,
 "nbformat_minor": 5
}
