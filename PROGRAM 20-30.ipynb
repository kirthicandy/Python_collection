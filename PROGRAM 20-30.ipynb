{
 "cells": [
  {
   "cell_type": "markdown",
   "id": "a4259a49",
   "metadata": {},
   "source": [
    "# To check if two strings are anagrams of each other"
   ]
  },
  {
   "cell_type": "code",
   "execution_count": 13,
   "id": "03c5e281",
   "metadata": {},
   "outputs": [
    {
     "name": "stdout",
     "output_type": "stream",
     "text": [
      "dog\n",
      "god\n",
      "The two strings are anagram of each other\n"
     ]
    }
   ],
   "source": [
    "class Solution:\n",
    " \n",
    "    def isAnagram(self, a, b):\n",
    " \n",
    "        if sorted(a) == sorted(b):\n",
    "            return True\n",
    "        else:\n",
    "            return False\n",
    " \n",
    "if __name__ == '__main__':\n",
    "    a = input()\n",
    "    b = input()\n",
    "    if(Solution().isAnagram(a, b)):\n",
    "      print(\"The two strings are anagram of each other\")\n",
    "    else:\n",
    "      print(\"The two strings are not anagram of each other\")\n",
    " "
   ]
  },
  {
   "cell_type": "markdown",
   "id": "52e19d09",
   "metadata": {},
   "source": [
    "# Print duplicates character from the string"
   ]
  },
  {
   "cell_type": "code",
   "execution_count": 14,
   "id": "e83d461b",
   "metadata": {},
   "outputs": [
    {
     "name": "stdout",
     "output_type": "stream",
     "text": [
      "c , count =  2\n"
     ]
    }
   ],
   "source": [
    "from collections import defaultdict\n",
    " \n",
    "def Duplicate(st):\n",
    " \n",
    "    count = defaultdict(int)\n",
    "    for i in range(len(st)):\n",
    "        count[st[i]] += 1\n",
    " \n",
    "    for it in count:\n",
    "        if (count[it] > 1):\n",
    "            print(it, \", count = \", count[it])\n",
    " \n",
    "\n",
    "if __name__ == \"__main__\":\n",
    " \n",
    "    st = \"Encyclopedia\"\n",
    "    Duplicate(st)"
   ]
  },
  {
   "cell_type": "markdown",
   "id": "42c9a5f3",
   "metadata": {},
   "source": [
    "# Print the first non-repeated character from a string"
   ]
  },
  {
   "cell_type": "code",
   "execution_count": 19,
   "id": "fe2cde48",
   "metadata": {},
   "outputs": [
    {
     "name": "stdout",
     "output_type": "stream",
     "text": [
      "First non-repeating character is i\n"
     ]
    }
   ],
   "source": [
    "def FirstNonRepeat(s):\n",
    " \n",
    "    for i in s:\n",
    " \n",
    "        if (s.find(i, (s.find(i)+1))) == -1:\n",
    " \n",
    "            print(\"First non-repeating character is\", i)\n",
    " \n",
    "            break\n",
    " \n",
    "    return\n",
    " \n",
    " \n",
    "s = 'lalitha'\n",
    " \n",
    "FirstNonRepeat(s)"
   ]
  },
  {
   "cell_type": "markdown",
   "id": "050ee7eb",
   "metadata": {},
   "source": [
    "# Given string be reversed using recursion"
   ]
  },
  {
   "cell_type": "code",
   "execution_count": 20,
   "id": "e9d89428",
   "metadata": {},
   "outputs": [
    {
     "name": "stdout",
     "output_type": "stream",
     "text": [
      "!noitarbeleC ilawiD ot emocleW"
     ]
    }
   ],
   "source": [
    "def reverse(string):\n",
    "    if len(string) == 0:\n",
    "        return\n",
    "     \n",
    "    temp = string[0]\n",
    "    reverse(string[1:])\n",
    "    print(temp, end='')\n",
    " \n",
    "\n",
    "string = \"Welcome to Diwali Celebration!\"\n",
    "reverse(string)"
   ]
  },
  {
   "cell_type": "markdown",
   "id": "dc20ef5c",
   "metadata": {},
   "source": [
    "# Check if a string contains only digits"
   ]
  },
  {
   "cell_type": "code",
   "execution_count": 22,
   "id": "80714e83",
   "metadata": {},
   "outputs": [
    {
     "name": "stdout",
     "output_type": "stream",
     "text": [
      "True\n"
     ]
    }
   ],
   "source": [
    "print(\"986538\".isdigit())"
   ]
  },
  {
   "cell_type": "markdown",
   "id": "d4832dd5",
   "metadata": {},
   "source": [
    "# How are duplicates character found in the string"
   ]
  },
  {
   "cell_type": "code",
   "execution_count": 23,
   "id": "7480e648",
   "metadata": {},
   "outputs": [
    {
     "name": "stdout",
     "output_type": "stream",
     "text": [
      "i f\n"
     ]
    }
   ],
   "source": [
    "def find_dup(input):\n",
    "    x=[]\n",
    "    for i in input:\n",
    "        if i not in x and input.count(i)>1:\n",
    "            x.append(i)\n",
    "    print(\" \".join(x))\n",
    " \n",
    "if __name__ == \"__main__\":\n",
    "    input = 'Diwali offer'\n",
    "    find_dup(input)"
   ]
  },
  {
   "cell_type": "markdown",
   "id": "9c762f91",
   "metadata": {},
   "source": [
    "# Count the number of vowels and consonants in a given string"
   ]
  },
  {
   "cell_type": "code",
   "execution_count": 24,
   "id": "2c1f3775",
   "metadata": {
    "scrolled": true
   },
   "outputs": [
    {
     "name": "stdout",
     "output_type": "stream",
     "text": [
      "{'u', 'a', 'U', 'o', 'e', 'O', 'A', 'I', 'i', 'E'}\n",
      "Number of consonents in the sring: 7\n",
      "Number of vowels in the string: 4\n"
     ]
    }
   ],
   "source": [
    "String=\"Happy Diwali\"\n",
    "vowel = set(\"aeiouAEIOU\")\n",
    "print(vowel) \n",
    "v_count=0\n",
    "c_count=0\n",
    "for i in String: \n",
    "    if i in vowel:\n",
    "        v_count=v_count+1\n",
    "    elif( (i>='a' and i<='z') or (i>='A' and i<='Z')):\n",
    "        c_count = c_count + 1\n",
    "print(\"Number of consonents in the sring:\", c_count) \n",
    "print(\"Number of vowels in the string:\", v_count)"
   ]
  },
  {
   "cell_type": "markdown",
   "id": "bf4af39c",
   "metadata": {},
   "source": [
    "# Count the occurance of a given character in a string"
   ]
  },
  {
   "cell_type": "code",
   "execution_count": 27,
   "id": "aca72d2b",
   "metadata": {},
   "outputs": [
    {
     "name": "stdout",
     "output_type": "stream",
     "text": [
      "1\n"
     ]
    }
   ],
   "source": [
    "def count(s, c) :\n",
    "     \n",
    "    \n",
    "    res = 0\n",
    "     \n",
    "    for i in range(len(s)) :\n",
    "         \n",
    "        if (s[i] == c):\n",
    "            res = res + 1\n",
    "    return res\n",
    "     \n",
    "    \n",
    "str= \"Kiruthika\"\n",
    "c = 'u'\n",
    "print(count(str, c))"
   ]
  },
  {
   "cell_type": "markdown",
   "id": "65d52a5c",
   "metadata": {},
   "source": [
    "# Find all permutation of the string"
   ]
  },
  {
   "cell_type": "code",
   "execution_count": 36,
   "id": "5a91a7d5",
   "metadata": {},
   "outputs": [
    {
     "name": "stdout",
     "output_type": "stream",
     "text": [
      "Initial string Ram\n",
      "Resultant List ['Ram', 'Rma', 'aRm', 'amR', 'mRa', 'maR']\n"
     ]
    }
   ],
   "source": [
    "from itertools import permutations\n",
    " \n",
    "ini_str = \"Ram\"\n",
    " \n",
    "print(\"Initial string\", ini_str)\n",
    " \n",
    "# Permutation\n",
    "permutation = [''.join(p) for p in permutations(ini_str)]\n",
    "print(\"Resultant List\", permutation)"
   ]
  },
  {
   "cell_type": "markdown",
   "id": "26117312",
   "metadata": {},
   "source": [
    "# Reverse words in a given sentence without using any library method"
   ]
  },
  {
   "cell_type": "code",
   "execution_count": 40,
   "id": "d10ad90b",
   "metadata": {},
   "outputs": [
    {
     "name": "stdout",
     "output_type": "stream",
     "text": [
      "Reversed String:\n",
      "Kirthika I'm\n"
     ]
    }
   ],
   "source": [
    "s = \"I'm Kirthika\"\n",
    "words = s.split(' ')\n",
    "string =[]\n",
    "for word in words:\n",
    "    string.insert(0, word)\n",
    " \n",
    "print(\"Reversed String:\")\n",
    "print(\" \".join(string))"
   ]
  },
  {
   "cell_type": "code",
   "execution_count": null,
   "id": "9bd4e223",
   "metadata": {},
   "outputs": [],
   "source": []
  }
 ],
 "metadata": {
  "kernelspec": {
   "display_name": "Python 3 (ipykernel)",
   "language": "python",
   "name": "python3"
  },
  "language_info": {
   "codemirror_mode": {
    "name": "ipython",
    "version": 3
   },
   "file_extension": ".py",
   "mimetype": "text/x-python",
   "name": "python",
   "nbconvert_exporter": "python",
   "pygments_lexer": "ipython3",
   "version": "3.9.12"
  }
 },
 "nbformat": 4,
 "nbformat_minor": 5
}
