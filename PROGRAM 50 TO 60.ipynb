{
 "cells": [
  {
   "cell_type": "code",
   "execution_count": null,
   "id": "34033f78",
   "metadata": {},
   "outputs": [],
   "source": [
    "51. How can you reverse the words in a target sentence without the help of library methods?\n",
    "52. How can you replace or remove characters from strings?\n",
    "53. How can you append texts to files in programming languages such as Java?\n",
    "54. How can you find the largest or smallest number in an array of integers?\n",
    "55. How to find the missing number in a given integer array of 1 to 100?\n",
    "56. How to find the duplicate number on a given integer array?\n",
    "57. How to find the largest and smallest number in an unsorted integer array?\n",
    "58. How to find all pairs of integer arrays whose sum is equal to a given number?\n",
    "59. How to find duplicate numbers in an array if it contains multiple duplicates?\n",
    "60. How to remove duplicates from a given array?"
   ]
  },
  {
   "cell_type": "code",
   "execution_count": 3,
   "id": "aec0ce03",
   "metadata": {},
   "outputs": [
    {
     "name": "stdout",
     "output_type": "stream",
     "text": [
      "m'I akihtriK\n"
     ]
    }
   ],
   "source": [
    "def reverseWordSentence(Sentence):\n",
    " \n",
    "    words = Sentence.split(\" \")\n",
    "     \n",
    "    newWords = [word[::-1] for word in words]\n",
    "     \n",
    "    newSentence = \" \".join(newWords)\n",
    " \n",
    "    return newSentence\n",
    "\n",
    "Sentence = \"I'm Kirthika\"\n",
    "print(reverseWordSentence(Sentence))"
   ]
  },
  {
   "cell_type": "code",
   "execution_count": 4,
   "id": "d1f5dc37",
   "metadata": {},
   "outputs": [
    {
     "name": "stdout",
     "output_type": "stream",
     "text": [
      "hello, my name is nik how are you\n"
     ]
    }
   ],
   "source": [
    "a_string = 'h?ello, my name is Kirthi! how are you?'\n",
    "for character in '!?':\n",
    "    a_string = a_string.replace(character, '')\n",
    "print(a_string)"
   ]
  },
  {
   "cell_type": "code",
   "execution_count": 6,
   "id": "b111ae59",
   "metadata": {},
   "outputs": [
    {
     "name": "stdout",
     "output_type": "stream",
     "text": [
      "50 30 23 "
     ]
    }
   ],
   "source": [
    "def kLargest(arr, k):\n",
    "    arr.sort(reverse = True)\n",
    "    # Print the first kth largest elements\n",
    "    for i in range(k):\n",
    "        print (arr[i], end =\" \")\n",
    " \n",
    "# Driver program\n",
    "arr = [1, 23, 12, 9, 30, 2, 50]\n",
    "# n = len(arr)\n",
    "k = 3\n",
    "kLargest(arr, k)"
   ]
  },
  {
   "cell_type": "code",
   "execution_count": 7,
   "id": "7512a1b8",
   "metadata": {},
   "outputs": [
    {
     "name": "stdout",
     "output_type": "stream",
     "text": [
      "4.0\n"
     ]
    }
   ],
   "source": [
    "def getMissingNo(arr, n):\n",
    "    total = (n + 1)*(n + 2)/2\n",
    "    sum_of_A = sum(arr)\n",
    "    return total - sum_of_A\n",
    " \n",
    "# Driver code\n",
    "if __name__ == '__main__':\n",
    "    arr = [1, 2, 3, 5]\n",
    "    N = len(arr)\n",
    "     \n",
    "    # Function call\n",
    "    missing = getMissingNo(arr, N)\n",
    "    print(missing)"
   ]
  },
  {
   "cell_type": "code",
   "execution_count": 10,
   "id": "9f912890",
   "metadata": {},
   "outputs": [
    {
     "name": "stdout",
     "output_type": "stream",
     "text": [
      "12 11 5 \n",
      "\n"
     ]
    }
   ],
   "source": [
    "def printDuplicates(arr):\n",
    "    dict = {}\n",
    " \n",
    "    for ele in arr:\n",
    "        try:\n",
    "            dict[ele] += 1\n",
    "        except:\n",
    "            dict[ele] = 1\n",
    "             \n",
    "    for item in dict:\n",
    "         \n",
    "    \n",
    "        if(dict[item] > 1):\n",
    "            print(item, end=\" \")\n",
    " \n",
    "    print(\"\\n\")\n",
    " \n",
    "# Driver Code\n",
    "if __name__ == \"__main__\":\n",
    "    list = [12, 11, 40, 12,\n",
    "            5, 6, 5, 12, 11]\n",
    "    printDuplicates(list)"
   ]
  },
  {
   "cell_type": "code",
   "execution_count": 12,
   "id": "39f15f62",
   "metadata": {},
   "outputs": [],
   "source": [
    "def findMinMAX(arr): \n",
    "    max_num = arr[-1] # initialize max number \n",
    "    min_num = arr[0] # initialize min number \n",
    "    for num in arr:  \n",
    "       if num > max_num:  \n",
    "            max_num = num \n",
    "       if min_num > num: \n",
    "            min_num = num \n",
    "    return min_num, max_num "
   ]
  },
  {
   "cell_type": "code",
   "execution_count": 13,
   "id": "12fa1fb2",
   "metadata": {},
   "outputs": [
    {
     "name": "stdout",
     "output_type": "stream",
     "text": [
      "9+6=15\n",
      "10+5=15\n"
     ]
    }
   ],
   "source": [
    "list=[2,4,7,9,3,6,1,10,5]\n",
    "\n",
    "n=15\n",
    "\n",
    "for i in range(len(list)-1):\n",
    "    for j in range(i+1,len(list)):\n",
    "        a=list[i]\n",
    "        b=list[j]\n",
    "        \n",
    "        if a+b==n:\n",
    "            print(f\"{a}+{b}={n}\")"
   ]
  },
  {
   "cell_type": "code",
   "execution_count": null,
   "id": "251eb050",
   "metadata": {},
   "outputs": [
    {
     "name": "stdout",
     "output_type": "stream",
     "text": [
      "Enter list of array:\n"
     ]
    }
   ],
   "source": [
    "print(\"Enter list of array:\")\n",
    "l=list(map(int, input().split()))\n",
    "l=set(l)\n",
    "l=list(l)\n",
    "for i in range(len(l)):\n",
    "    print(l[i],end=\"\")\n",
    "\n",
    "    "
   ]
  },
  {
   "cell_type": "code",
   "execution_count": null,
   "id": "bb2e8d5b",
   "metadata": {},
   "outputs": [],
   "source": []
  }
 ],
 "metadata": {
  "kernelspec": {
   "display_name": "Python 3 (ipykernel)",
   "language": "python",
   "name": "python3"
  },
  "language_info": {
   "codemirror_mode": {
    "name": "ipython",
    "version": 3
   },
   "file_extension": ".py",
   "mimetype": "text/x-python",
   "name": "python",
   "nbconvert_exporter": "python",
   "pygments_lexer": "ipython3",
   "version": "3.9.12"
  }
 },
 "nbformat": 4,
 "nbformat_minor": 5
}
