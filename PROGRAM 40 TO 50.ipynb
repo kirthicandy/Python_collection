{
 "cells": [
  {
   "cell_type": "markdown",
   "id": "d5674eda",
   "metadata": {},
   "source": [
    "# How is a bubble sort algorithm implemented?"
   ]
  },
  {
   "cell_type": "code",
   "execution_count": 11,
   "id": "ec3b491a",
   "metadata": {},
   "outputs": [
    {
     "name": "stdout",
     "output_type": "stream",
     "text": [
      "Unsorted list is,\n",
      "[39, 12, 18, 85, 72, 10, 2, 18]\n",
      "Sorted Array is, \n",
      "[2, 10, 12, 18, 18, 39, 72, 85]\n"
     ]
    }
   ],
   "source": [
    "def bubblesort(elements):\n",
    "    swapped = False\n",
    "    for n in range(len(elements)-1, 0, -1):\n",
    "        for i in range(n):\n",
    "            if elements[i] > elements[i + 1]:\n",
    "                swapped = True\n",
    "                elements[i], elements[i + 1] = elements[i + 1], elements[i]       \n",
    "        if not swapped:\n",
    "           return\n",
    " \n",
    "elements = [39, 12, 18, 85, 72, 10, 2, 18]\n",
    " \n",
    "print(\"Unsorted list is,\")\n",
    "print(elements)\n",
    "bubblesort(elements)\n",
    "print(\"Sorted Array is, \")\n",
    "print(elements)"
   ]
  },
  {
   "cell_type": "markdown",
   "id": "38eb9cd7",
   "metadata": {},
   "source": [
    "# How is an iterative quicksort algorithm implemented? How do you implement an insertion\n",
    "sort algorithm?"
   ]
  },
  {
   "cell_type": "code",
   "execution_count": 13,
   "id": "19c9d681",
   "metadata": {},
   "outputs": [
    {
     "name": "stdout",
     "output_type": "stream",
     "text": [
      "2 2 4 6 9 "
     ]
    }
   ],
   "source": [
    "def partition(arr, low, high):\n",
    "    i = (low - 1)         \n",
    "    pivot = arr[high]     \n",
    " \n",
    "    for j in range(low, high):\n",
    "        if arr[j] <= pivot:\n",
    "            i += 1\n",
    "            arr[i], arr[j] = arr[j], arr[i]\n",
    " \n",
    "    arr[i + 1], arr[high] = arr[high], arr[i + 1]\n",
    "    return (i + 1)\n",
    "def quickSort(arr, low, high):\n",
    "    if low < high:\n",
    "        pi = partition(arr, low, high)\n",
    "\n",
    "        quickSort(arr, low, pi-1)\n",
    "        quickSort(arr, pi + 1, high)\n",
    "\n",
    "if __name__ == '__main__' :\n",
    "     \n",
    "    arr = [4, 2, 6, 9, 2]\n",
    "    n = len(arr)\n",
    "    \n",
    "    quickSort(arr, 0, n - 1)\n",
    "     \n",
    "    for i in range(n):\n",
    "        print(arr[i], end = \" \")"
   ]
  },
  {
   "cell_type": "markdown",
   "id": "7a276c63",
   "metadata": {},
   "source": [
    "# How is a merge sort algorithm implemented?"
   ]
  },
  {
   "cell_type": "code",
   "execution_count": 14,
   "id": "9be191fa",
   "metadata": {},
   "outputs": [
    {
     "name": "stdout",
     "output_type": "stream",
     "text": [
      "Given array is\n",
      "12 11 13 5 6 7 \n",
      "Sorted array is: \n",
      "5 6 7 11 12 13 \n"
     ]
    }
   ],
   "source": [
    "def mergeSort(arr):\n",
    "    if len(arr) > 1:\n",
    "        mid = len(arr)//2\n",
    "        \n",
    "        L = arr[:mid]\n",
    " \n",
    "        R = arr[mid:]\n",
    "\n",
    "        mergeSort(L)\n",
    " \n",
    "        mergeSort(R)\n",
    " \n",
    "        i = j = k = 0\n",
    " \n",
    "        while i < len(L) and j < len(R):\n",
    "            if L[i] <= R[j]:\n",
    "                arr[k] = L[i]\n",
    "                i += 1\n",
    "            else:\n",
    "                arr[k] = R[j]\n",
    "                j += 1\n",
    "            k += 1\n",
    " \n",
    "        while i < len(L):\n",
    "            arr[k] = L[i]\n",
    "            i += 1\n",
    "            k += 1\n",
    " \n",
    "        while j < len(R):\n",
    "            arr[k] = R[j]\n",
    "            j += 1\n",
    "            k += 1\n",
    "\n",
    " \n",
    "def printList(arr):\n",
    "    for i in range(len(arr)):\n",
    "        print(arr[i], end=\" \")\n",
    "    print()\n",
    " \n",
    "if __name__ == '__main__':\n",
    "    arr = [12, 11, 13, 5, 6, 7]\n",
    "    print(\"Given array is\", end=\"\\n\")\n",
    "    printList(arr)\n",
    "    mergeSort(arr)\n",
    "    print(\"Sorted array is: \", end=\"\\n\")\n",
    "    printList(arr)\n",
    " "
   ]
  },
  {
   "cell_type": "code",
   "execution_count": null,
   "id": "9eb128e3",
   "metadata": {},
   "outputs": [],
   "source": [
    " How do you implement a bucket sort\n",
    "algorithm?"
   ]
  },
  {
   "cell_type": "code",
   "execution_count": 15,
   "id": "4d613a60",
   "metadata": {},
   "outputs": [
    {
     "name": "stdout",
     "output_type": "stream",
     "text": [
      "Sorted Array is\n",
      "[0.1234, 0.3434, 0.565, 0.656, 0.665, 0.897]\n"
     ]
    }
   ],
   "source": [
    "def insertionSort(b):\n",
    "    for i in range(1, len(b)):\n",
    "        up = b[i]\n",
    "        j = i - 1\n",
    "        while j >= 0 and b[j] > up: \n",
    "            b[j + 1] = b[j]\n",
    "            j -= 1\n",
    "        b[j + 1] = up     \n",
    "    return b     \n",
    "              \n",
    "def bucketSort(x):\n",
    "    arr = []\n",
    "    slot_num = 10 # 10 means 10 slots, each\n",
    "                  # slot's size is 0.1\n",
    "    for i in range(slot_num):\n",
    "        arr.append([])\n",
    "          \n",
    "    # Put array elements in different buckets \n",
    "    for j in x:\n",
    "        index_b = int(slot_num * j) \n",
    "        arr[index_b].append(j)\n",
    "      \n",
    "    # Sort individual buckets \n",
    "    for i in range(slot_num):\n",
    "        arr[i] = insertionSort(arr[i])\n",
    "          \n",
    "    # concatenate the result\n",
    "    k = 0\n",
    "    for i in range(slot_num):\n",
    "        for j in range(len(arr[i])):\n",
    "            x[k] = arr[i][j]\n",
    "            k += 1\n",
    "    return x\n",
    "  \n",
    "# Driver Code\n",
    "x = [0.897, 0.565, 0.656,\n",
    "     0.1234, 0.665, 0.3434] \n",
    "print(\"Sorted Array is\")\n",
    "print(bucketSort(x))"
   ]
  },
  {
   "cell_type": "code",
   "execution_count": 4,
   "id": "f44e1053",
   "metadata": {},
   "outputs": [
    {
     "ename": "SyntaxError",
     "evalue": "invalid syntax (1021830681.py, line 1)",
     "output_type": "error",
     "traceback": [
      "\u001b[1;36m  Input \u001b[1;32mIn [4]\u001b[1;36m\u001b[0m\n\u001b[1;33m    How do you implement a counting sort algorithm? How is a radix sort algorithm\u001b[0m\n\u001b[1;37m        ^\u001b[0m\n\u001b[1;31mSyntaxError\u001b[0m\u001b[1;31m:\u001b[0m invalid syntax\n"
     ]
    }
   ],
   "source": [
    "How do you implement a counting sort algorithm?"
   ]
  },
  {
   "cell_type": "code",
   "execution_count": 16,
   "id": "eacea350",
   "metadata": {},
   "outputs": [
    {
     "name": "stdout",
     "output_type": "stream",
     "text": [
      "Sorted character array is [-10, -5, -3, -1, 0, 5, 8, 10]\n"
     ]
    }
   ],
   "source": [
    "def count_sort(arr):\n",
    "    max_element = int(max(arr))\n",
    "    min_element = int(min(arr))\n",
    "    range_of_elements = max_element - min_element + 1\n",
    "    # Create a count array to store count of individual\n",
    "    # elements and initialize count array as 0\n",
    "    count_arr = [0 for _ in range(range_of_elements)]\n",
    "    output_arr = [0 for _ in range(len(arr))]\n",
    "  \n",
    "    # Store count of each character\n",
    "    for i in range(0, len(arr)):\n",
    "        count_arr[arr[i]-min_element] += 1\n",
    "  \n",
    "    # Change count_arr[i] so that count_arr[i] now contains actual\n",
    "    # position of this element in output array\n",
    "    for i in range(1, len(count_arr)):\n",
    "        count_arr[i] += count_arr[i-1]\n",
    "  \n",
    "    # Build the output character array\n",
    "    for i in range(len(arr)-1, -1, -1):\n",
    "        output_arr[count_arr[arr[i] - min_element] - 1] = arr[i]\n",
    "        count_arr[arr[i] - min_element] -= 1\n",
    "  \n",
    "    # Copy the output array to arr, so that arr now\n",
    "    # contains sorted characters\n",
    "    for i in range(0, len(arr)):\n",
    "        arr[i] = output_arr[i]\n",
    "  \n",
    "    return arr\n",
    "  \n",
    "  \n",
    "# Driver program to test above function\n",
    "arr = [-5, -10, 0, -3, 8, 5, -1, 10]\n",
    "ans = count_sort(arr)\n",
    "print(\"Sorted character array is \" + str(ans))"
   ]
  },
  {
   "cell_type": "code",
   "execution_count": null,
   "id": "f9c118ca",
   "metadata": {},
   "outputs": [],
   "source": [
    " How is a radix sort algorithm\n",
    "implemented?"
   ]
  },
  {
   "cell_type": "code",
   "execution_count": 18,
   "id": "9eb691d8",
   "metadata": {},
   "outputs": [
    {
     "name": "stdout",
     "output_type": "stream",
     "text": [
      "2 24 45 66 75 90 170 802 "
     ]
    }
   ],
   "source": [
    "def countingSort(arr, exp1):\n",
    " \n",
    "    n = len(arr)\n",
    " \n",
    "    # The output array elements that will have sorted arr\n",
    "    output = [0] * (n)\n",
    " \n",
    "    # initialize count array as 0\n",
    "    count = [0] * (10)\n",
    " \n",
    "    # Store count of occurrences in count[]\n",
    "    for i in range(0, n):\n",
    "        index = arr[i] // exp1\n",
    "        count[index % 10] += 1\n",
    " \n",
    "    # Change count[i] so that count[i] now contains actual\n",
    "    # position of this digit in output array\n",
    "    for i in range(1, 10):\n",
    "        count[i] += count[i - 1]\n",
    " \n",
    "    # Build the output array\n",
    "    i = n - 1\n",
    "    while i >= 0:\n",
    "        index = arr[i] // exp1\n",
    "        output[count[index % 10] - 1] = arr[i]\n",
    "        count[index % 10] -= 1\n",
    "        i -= 1\n",
    " \n",
    "    # Copying the output array to arr[],\n",
    "    # so that arr now contains sorted numbers\n",
    "    i = 0\n",
    "    for i in range(0, len(arr)):\n",
    "        arr[i] = output[i]\n",
    " \n",
    "# Method to do Radix Sort\n",
    "def radixSort(arr):\n",
    " \n",
    "    # Find the maximum number to know number of digits\n",
    "    max1 = max(arr)\n",
    " \n",
    "    # Do counting sort for every digit. Note that instead\n",
    "    # of passing digit number, exp is passed. exp is 10^i\n",
    "    # where i is current digit number\n",
    "    exp = 1\n",
    "    while max1 / exp >= 1:\n",
    "        countingSort(arr, exp)\n",
    "        exp *= 10\n",
    " \n",
    " \n",
    "# Driver code\n",
    "arr = [170, 45, 75, 90, 802, 24, 2, 66]\n",
    " \n",
    "# Function Call\n",
    "radixSort(arr)\n",
    " \n",
    "for i in range(len(arr)):\n",
    "    print(arr[i],end=\" \")\n",
    " "
   ]
  },
  {
   "cell_type": "code",
   "execution_count": 5,
   "id": "09e63118",
   "metadata": {},
   "outputs": [
    {
     "ename": "SyntaxError",
     "evalue": "invalid syntax (830134792.py, line 1)",
     "output_type": "error",
     "traceback": [
      "\u001b[1;36m  Input \u001b[1;32mIn [5]\u001b[1;36m\u001b[0m\n\u001b[1;33m    How do you swap two numbers without using the third variable? How do you check if two\u001b[0m\n\u001b[1;37m        ^\u001b[0m\n\u001b[1;31mSyntaxError\u001b[0m\u001b[1;31m:\u001b[0m invalid syntax\n"
     ]
    }
   ],
   "source": [
    "How do you swap two numbers without using the third variable? How do you check if two\n",
    "rectangles overlap with each other?"
   ]
  },
  {
   "cell_type": "code",
   "execution_count": 20,
   "id": "5b5b1cd3",
   "metadata": {},
   "outputs": [
    {
     "name": "stdout",
     "output_type": "stream",
     "text": [
      "Rectangles Overlap\n"
     ]
    }
   ],
   "source": [
    "class Point:\n",
    "    def __init__(self, x, y):\n",
    "        self.x = x\n",
    "        self.y = y\n",
    " \n",
    "# Returns true if two rectangles(l1, r1)\n",
    "# and (l2, r2) overlap\n",
    "def do_overlap(l1, r1, l2, r2):\n",
    "     \n",
    "    # if rectangle has area 0, no overlap\n",
    "    if l1.x == r1.x or l1.y == r1.y or r2.x == l2.x or l2.y == r2.y:\n",
    "        return False\n",
    "     \n",
    "    # If one rectangle is on left side of other\n",
    "    if l1.x > r2.x or l2.x > r1.x:\n",
    "        return False\n",
    " \n",
    "    # If one rectangle is above other\n",
    "    if r1.y > l2.y or r2.y > l1.y:\n",
    "        return False\n",
    " \n",
    "    return True\n",
    " \n",
    "# Driver Code\n",
    "if __name__ == \"__main__\":\n",
    "    l1 = Point(0, 10)\n",
    "    r1 = Point(10, 0)\n",
    "    l2 = Point(5, 5)\n",
    "    r2 = Point(15, 0)\n",
    " \n",
    "    if(do_overlap(l1, r1, l2, r2)):\n",
    "        print(\"Rectangles Overlap\")\n",
    "    else:\n",
    "        print(\"Rectangles Don't Overlap\")"
   ]
  },
  {
   "cell_type": "code",
   "execution_count": 19,
   "id": "fcb50cbc",
   "metadata": {},
   "outputs": [
    {
     "name": "stdout",
     "output_type": "stream",
     "text": [
      "Enter the value of x?7\n",
      "Enter the value of y?8\n",
      "before swapping numbers: 7   8\n",
      "\n",
      "After swapping: 8   7\n",
      "\n"
     ]
    }
   ],
   "source": [
    "x = int(input(\"Enter the value of x?\"))  \n",
    "y = int(input(\"Enter the value of y?\"))  \n",
    "print(\"before swapping numbers: %d   %d\\n\" %(x,y))  \n",
    "#swapping#  \n",
    "x = x + y     \n",
    "y = x - y    \n",
    "x = x - y     \n",
    "print(\"After swapping: %d   %d\\n\"%(x,y))  "
   ]
  },
  {
   "cell_type": "markdown",
   "id": "9fcddc48",
   "metadata": {},
   "source": [
    "# How do you design a vending machine?"
   ]
  },
  {
   "cell_type": "code",
   "execution_count": null,
   "id": "5bfd18f4",
   "metadata": {},
   "outputs": [
    {
     "name": "stdout",
     "output_type": "stream",
     "text": [
      "welcome to vending machine! n***************\n",
      "nitems available n***************\n",
      "choc 1.5\n",
      "pop 1.75\n",
      "chips 2.0\n",
      "gum 0.5\n",
      "mints 0.75\n",
      "***************n\n",
      "select item: chips\n",
      "insert 2.0: 5\n",
      "you got chips\n",
      "cash remaining: 3.0\n",
      "buy something else? (y/n): y\n",
      "nitems available n***************\n",
      "choc 1.5\n",
      "pop 1.75\n",
      "chips 2.0\n",
      "gum 0.5\n",
      "mints 0.75\n",
      "***************n\n",
      "select item: chips\n",
      "you got chips\n",
      "cash remaining: 1.0\n",
      "buy something else? (y/n): n\n",
      "1.0 refunded\n",
      "thank you, have a nice day!n\n",
      "nitems available n***************\n",
      "choc 1.5\n",
      "pop 1.75\n",
      "chips 2.0\n",
      "gum 0.5\n",
      "mints 0.75\n",
      "***************n\n"
     ]
    }
   ],
   "source": [
    "def vend():\n",
    "\n",
    "    a = {'item': 'choc', 'price': 1.5, 'stock': 2}\n",
    "    b = {'item': 'pop', 'price': 1.75, 'stock': 1}\n",
    "    c = {'item': 'chips', 'price': 2.0, 'stock': 3}\n",
    "    d = {'item': 'gum', 'price': 0.50, 'stock': 1}\n",
    "    e = {'item': 'mints', 'price': 0.75, 'stock': 3}\n",
    "    items = [a, b, c, d, e]\n",
    "    cim = 0 # cash in machine\n",
    "\n",
    "    print('welcome to vending machine! n***************')\n",
    "\n",
    "    # show items, prices\n",
    "    def show(items):\n",
    "        print('nitems available n***************')\n",
    "    \n",
    "        for item in items:      \n",
    "            if item.get('stock') == 0:\n",
    "                items.remove(item)\n",
    "        for item in items:\n",
    "            print(item.get('item'), item.get('price'))\n",
    "        \n",
    "        print('***************n')\n",
    "    \n",
    "    # have user choose item\n",
    "    while True:\n",
    "        show(items)\n",
    "        selected = input('select item: ')\n",
    "        for item in items:\n",
    "            if selected == item.get('item'):\n",
    "                selected = item               \n",
    "                price = selected.get('price')\n",
    "                while cim < price:\n",
    "                    cim = float(input('insert ' + str(price - cim) + ': '))   \n",
    "                else:\n",
    "                    print('you got ' + selected.get('item'))\n",
    "                    selected['stock'] -= 1\n",
    "                    cim -= price\n",
    "                    print('cash remaining: ' + str(cim))\n",
    "                    a = input('buy something else? (y/n): ')\n",
    "                    if a == 'n':\n",
    "                        if cim != 0:\n",
    "                            print(str(cim) + ' refunded')\n",
    "                            cim = 0\n",
    "                            print('thank you, have a nice day!n')\n",
    "                            break                        \n",
    "                        else:\n",
    "                            print('thank you, have a nice day!n')\n",
    "                            break                        \n",
    "                    else:\n",
    "                        continue\n",
    "                        \n",
    "                    \n",
    "   \n",
    "vend()\n"
   ]
  },
  {
   "cell_type": "markdown",
   "id": "f168ba4b",
   "metadata": {},
   "source": [
    "# How can we check if a number is a prime number"
   ]
  },
  {
   "cell_type": "code",
   "execution_count": null,
   "id": "7b65e1d8",
   "metadata": {},
   "outputs": [],
   "source": [
    "def checkDigits(n):\n",
    " \n",
    "    # check all digits are\n",
    "    # prime or not\n",
    "    while (n) :\n",
    "        dig = n % 10\n",
    " \n",
    "        # check if digits are\n",
    "        # prime or not\n",
    "        if (dig != 2 and\n",
    "                   dig != 3 and dig != 5\n",
    "                   and dig != 7) :\n",
    "            return 0\n",
    "        n = n / 10\n",
    " \n",
    "    return 1\n",
    " \n",
    "# To check if n is prime or not\n",
    "def prime(n):\n",
    "    if (n == 1):\n",
    "        return 0\n",
    "         \n",
    "    # check for all factors\n",
    "    i = 2\n",
    "    while i * i <= n :\n",
    "        if (n % i == 0):\n",
    "            return 0\n",
    "        i = i + 1\n",
    "    return 1\n",
    " \n",
    "# To check if n is Full Prime\n",
    "def isFullPrime(n) :\n",
    " \n",
    "    # The order is important here\n",
    "    # for efficiency.\n",
    "    return (checkDigits(n) and prime(n))\n",
    " \n",
    "# Driver code\n",
    "n = 53\n",
    "if (isFullPrime(n)) :\n",
    "    print(\"Yes\")\n",
    "else :\n",
    "    print(\"No\")"
   ]
  },
  {
   "cell_type": "code",
   "execution_count": null,
   "id": "bcee6819",
   "metadata": {},
   "outputs": [],
   "source": []
  }
 ],
 "metadata": {
  "kernelspec": {
   "display_name": "Python 3 (ipykernel)",
   "language": "python",
   "name": "python3"
  },
  "language_info": {
   "codemirror_mode": {
    "name": "ipython",
    "version": 3
   },
   "file_extension": ".py",
   "mimetype": "text/x-python",
   "name": "python",
   "nbconvert_exporter": "python",
   "pygments_lexer": "ipython3",
   "version": "3.9.12"
  }
 },
 "nbformat": 4,
 "nbformat_minor": 5
}
