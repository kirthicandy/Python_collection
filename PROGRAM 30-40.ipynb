{
 "cells": [
  {
   "cell_type": "markdown",
   "id": "a5a55362",
   "metadata": {},
   "source": [
    "# How do you check if two strings are a rotation to each other"
   ]
  },
  {
   "cell_type": "code",
   "execution_count": 14,
   "id": "e9177558",
   "metadata": {},
   "outputs": [
    {
     "name": "stdout",
     "output_type": "stream",
     "text": [
      "Strings are rotations of each other\n"
     ]
    }
   ],
   "source": [
    "def checkString(s1, s2, indexFound, Size):\n",
    "    for i in range(Size):\n",
    " \n",
    "        \n",
    "        if(s1[i] != s2[(indexFound + i) % Size]):\n",
    "            return False\n",
    "\n",
    "    return True\n",
    " \n",
    "\n",
    "s1 = \"kirt\"\n",
    "s2 = \"rtki\"\n",
    " \n",
    "if(len(s1) != len(s2)):\n",
    "    print(\"s2 is not a rotation on s1\")\n",
    " \n",
    "else:\n",
    " \n",
    "    indexes = []  \n",
    "    Size = len(s1)\n",
    "    firstChar = s1[0]\n",
    "    for i in range(Size):\n",
    "        if(s2[i] == firstChar):\n",
    "            indexes.append(i)\n",
    " \n",
    "    isRotation = False\n",
    "    for idx in indexes:\n",
    " \n",
    "        isRotation = checkString(s1, s2, idx, Size)\n",
    " \n",
    "        if(isRotation):\n",
    "            break\n",
    " \n",
    "    if(isRotation):\n",
    "        print(\"Strings are rotations of each other\")\n",
    "    else:\n",
    "        print(\"Strings are not rotations of each other\")"
   ]
  },
  {
   "cell_type": "markdown",
   "id": "9ece7efa",
   "metadata": {},
   "source": [
    "# Check if a given string is a palindrome"
   ]
  },
  {
   "cell_type": "code",
   "execution_count": 17,
   "id": "71dad8f3",
   "metadata": {},
   "outputs": [
    {
     "name": "stdout",
     "output_type": "stream",
     "text": [
      "madam\n",
      "Yes\n"
     ]
    }
   ],
   "source": [
    "def isPalindrome(s):\n",
    "    return s == s[::-1]\n",
    " \n",
    " \n",
    "t=input()\n",
    "ans = isPalindrome(s)\n",
    " \n",
    "if ans:\n",
    "    print(\"Yes\")\n",
    "else:\n",
    "    print(\"No\")"
   ]
  },
  {
   "cell_type": "markdown",
   "id": "52be3f66",
   "metadata": {},
   "source": [
    "# How binary search tree implemented"
   ]
  },
  {
   "cell_type": "code",
   "execution_count": 18,
   "id": "ba2155d8",
   "metadata": {},
   "outputs": [
    {
     "name": "stdout",
     "output_type": "stream",
     "text": [
      "True\n",
      "False\n"
     ]
    }
   ],
   "source": [
    "class BinaryTreeNode:\n",
    "  def __init__(self, data):\n",
    "    self.data = data\n",
    "    self.leftChild = None\n",
    "    self.rightChild=None\n",
    "     \n",
    "def insert(root,newValue):\n",
    "    #if binary search tree is empty, make a new node and declare it as root\n",
    "    if root is None:\n",
    "        root=BinaryTreeNode(newValue)\n",
    "        return root\n",
    "     \n",
    "    if newValue<root.data:\n",
    "        root.leftChild=insert(root.leftChild,newValue)\n",
    "    else:\n",
    "        root.rightChild=insert(root.rightChild,newValue)\n",
    "    return root\n",
    "def search(root,value):\n",
    "    #Condition 1\n",
    "    if root==None:\n",
    "        return False\n",
    "    #Condition 2\n",
    "    elif root.data==value:\n",
    "        return True\n",
    "    #Condition 3\n",
    "    elif root.data <value:\n",
    "        return search(root.rightChild,value)\n",
    "    # Condition 4\n",
    "    else:\n",
    "        return search(root.leftChild,value)\n",
    "root= insert(None,15)\n",
    "insert(root,10)\n",
    "insert(root,25)\n",
    "insert(root,6)\n",
    "insert(root,14)\n",
    "insert(root,20)\n",
    "insert(root,60)\n",
    "print(search(root,14))\n",
    "print(search(root,22))\n"
   ]
  },
  {
   "cell_type": "markdown",
   "id": "2d74b8e5",
   "metadata": {},
   "source": [
    "# How to perform preorder traversal in a given binary tree"
   ]
  },
  {
   "cell_type": "code",
   "execution_count": 25,
   "id": "10995953",
   "metadata": {},
   "outputs": [
    {
     "name": "stdout",
     "output_type": "stream",
     "text": [
      "Recursive Traversal\n",
      "1 2 4 5 3 "
     ]
    }
   ],
   "source": [
    "class BinaryTreeNode:\n",
    "    def __init__(self, data):\n",
    "        self.data = data\n",
    "        self.right = None\n",
    "        self.left = None\n",
    "\n",
    "def PreorderRecursive(root:BinaryTreeNode)->None:\n",
    "    if(root == None): \n",
    "        return\n",
    "    print(root.data, end=\" \")\n",
    "    PreorderRecursive(root.left)\n",
    "    PreorderRecursive(root.right)\n",
    "print(\"Recursive Traversal\")\n",
    "PreorderRecursive(root)\n"
   ]
  },
  {
   "cell_type": "markdown",
   "id": "7960a4fb",
   "metadata": {},
   "source": [
    "# To traverse a given binary tree in preorder without recursion"
   ]
  },
  {
   "cell_type": "code",
   "execution_count": 26,
   "id": "b086ef98",
   "metadata": {},
   "outputs": [
    {
     "name": "stdout",
     "output_type": "stream",
     "text": [
      "\n",
      "Non Recursive Traversal\n",
      "1 2 4 5 3 "
     ]
    }
   ],
   "source": [
    "def PreorderNonRec(root:BinaryTreeNode):\n",
    "    stack = []\n",
    "    while(1):\n",
    "        while(root):\n",
    "            # Process Current Node\n",
    "            print(root.data, end=\" \")\n",
    "            # push the root into stack\n",
    "            stack.append(root)\n",
    "            # go left\n",
    "            root = root.left\n",
    "        \n",
    "        if(len(stack) == 0):\n",
    "            break\n",
    "        root = stack.pop()\n",
    "        # Go to right\n",
    "        root = root.right\n",
    "\n",
    "if __name__ == \"__main__\":\n",
    "    root = BinaryTreeNode(1)\n",
    "    root.left = BinaryTreeNode(2)\n",
    "    root.right = BinaryTreeNode(3)\n",
    "    root.left.left = BinaryTreeNode(4)\n",
    "    root.left.right = BinaryTreeNode(5)\n",
    "\n",
    "    \n",
    "    print(\"\\nNon Recursive Traversal\")\n",
    "    PreorderNonRec(root)"
   ]
  },
  {
   "cell_type": "markdown",
   "id": "6a4f91a8",
   "metadata": {},
   "source": [
    "# To perform a inorder traversal in a given binary tree"
   ]
  },
  {
   "cell_type": "code",
   "execution_count": 28,
   "id": "a687e11a",
   "metadata": {},
   "outputs": [
    {
     "name": "stdout",
     "output_type": "stream",
     "text": [
      "Recursive Traversal\n",
      "4 2 5 1 3 "
     ]
    }
   ],
   "source": [
    "class BinaryTreeNode:\n",
    "    def __init__(self, data):\n",
    "        self.data = data\n",
    "        self.right = None\n",
    "        self.left = None\n",
    "\n",
    "def InorderRecursive(root:BinaryTreeNode)->None:\n",
    "    if(root == None): \n",
    "        return\n",
    "   \n",
    "    InorderRecursive(root.left)\n",
    "    print(root.data, end=\" \")\n",
    "    InorderRecursive(root.right)\n",
    "print(\"Recursive Traversal\")\n",
    "InorderRecursive(root)\n"
   ]
  },
  {
   "cell_type": "markdown",
   "id": "cf83184f",
   "metadata": {},
   "source": [
    "# Print all nodes of a given binary tree using inorder traversal without recursion"
   ]
  },
  {
   "cell_type": "code",
   "execution_count": 33,
   "id": "153958c8",
   "metadata": {},
   "outputs": [
    {
     "name": "stdout",
     "output_type": "stream",
     "text": [
      "4 2 5 1 3 \n"
     ]
    }
   ],
   "source": [
    "class Node:\n",
    "      \n",
    "    # Constructor to create a new node\n",
    "    def __init__(self, data):\n",
    "        self.data = data \n",
    "        self.left = None\n",
    "        self.right = None\n",
    "def inOrder(root):\n",
    "      \n",
    "    # Set current to root of binary tree\n",
    "    current = root \n",
    "    stack = [] # initialize stack\n",
    "      \n",
    "    while True:\n",
    "          \n",
    "        # Reach the left most Node of the current Node\n",
    "        if current is not None:\n",
    "            stack.append(current)\n",
    "          \n",
    "            current = current.left \n",
    "  \n",
    "        elif(stack):\n",
    "            current = stack.pop()\n",
    "            print(current.data, end=\" \") # Python 3 printing\n",
    "            current = current.right \n",
    "  \n",
    "        else:\n",
    "            break\n",
    "       \n",
    "    print()\n",
    "  \n",
    "root = Node(1)\n",
    "root.left = Node(2)\n",
    "root.right = Node(3)\n",
    "root.left.left = Node(4)\n",
    "root.left.right = Node(5)\n",
    "  \n",
    "inOrder(root)"
   ]
  },
  {
   "cell_type": "markdown",
   "id": "f9dec856",
   "metadata": {},
   "source": [
    "# Implement a postorder traversal algorithm"
   ]
  },
  {
   "cell_type": "code",
   "execution_count": 34,
   "id": "71bf57c3",
   "metadata": {},
   "outputs": [
    {
     "name": "stdout",
     "output_type": "stream",
     "text": [
      "Recursive Traversal\n",
      "4 2 5 3 1 "
     ]
    }
   ],
   "source": [
    "class BinaryTreeNode:\n",
    "    def __init__(self, data):\n",
    "        self.data = data\n",
    "        self.right = None\n",
    "        self.left = None\n",
    "\n",
    "def PostorderRecursive(root:BinaryTreeNode)->None:\n",
    "    if(root == None): \n",
    "        return\n",
    "   \n",
    "    InorderRecursive(root.left)\n",
    "    InorderRecursive(root.right)\n",
    "    print(root.data, end=\" \")\n",
    "print(\"Recursive Traversal\")\n",
    "PostorderRecursive(root)\n"
   ]
  },
  {
   "cell_type": "markdown",
   "id": "d8fdddf7",
   "metadata": {},
   "source": [
    "# To traverse a binary tree in postorder traversal without recursion. How are all leaves of a binary search tree printed."
   ]
  },
  {
   "cell_type": "code",
   "execution_count": 43,
   "id": "d8e6299b",
   "metadata": {},
   "outputs": [
    {
     "name": "stdout",
     "output_type": "stream",
     "text": [
      "\n"
     ]
    }
   ],
   "source": [
    "class Node:\n",
    "\n",
    "    def __init__(self, data):\n",
    "        self.data = data \n",
    "        self.left = None\n",
    "        self.right = None\n",
    "def inOrder(root):\n",
    "      \n",
    "   \n",
    "    current = root \n",
    "    stack = [] \n",
    "      \n",
    "    while True:\n",
    "          \n",
    "        if current is not None:\n",
    "            stack.append(current)\n",
    "          \n",
    "            current = current.left \n",
    "  \n",
    "        elif(stack):\n",
    "            current = stack.pop()\n",
    "            print(current.data, end=\" \")\n",
    "            current = current.right \n",
    "  \n",
    "        else:\n",
    "            break\n",
    "       \n",
    "    print()\n",
    "  \n",
    "root = Node(1)\n",
    "root.left = Node(2)\n",
    "root.right = Node(3)\n",
    "root.left.left = Node(4)\n",
    "root.left.right = Node(5)\n",
    "  \n",
    "PostOrder(root)"
   ]
  },
  {
   "cell_type": "markdown",
   "id": "328fc399",
   "metadata": {},
   "source": [
    "# Count number of leaf nodes in a given binary tree. How to perform binary search in a given array"
   ]
  },
  {
   "cell_type": "code",
   "execution_count": 42,
   "id": "7331ff73",
   "metadata": {},
   "outputs": [
    {
     "name": "stdout",
     "output_type": "stream",
     "text": [
      "Leaf count of the tree is 3\n"
     ]
    }
   ],
   "source": [
    "class Node:\n",
    "      \n",
    "    def __init__(self, data):\n",
    "        self.data = data \n",
    "        self.left = None\n",
    "        self.right = None\n",
    "  \n",
    "# Function to get the count of leaf nodes in binary tree\n",
    "def getLeafCount(node):\n",
    "    if node is None:\n",
    "        return 0 \n",
    "    if(node.left is None and node.right is None):\n",
    "        return 1 \n",
    "    else:\n",
    "        return getLeafCount(node.left) + getLeafCount(node.right)\n",
    "  \n",
    "root = Node(1)\n",
    "root.left = Node(2)\n",
    "root.right = Node(3)\n",
    "root.left.left = Node(4)\n",
    "root.left.right = Node(5)\n",
    "  \n",
    "print (\"Leaf count of the tree is %d\" %(getLeafCount(root)))"
   ]
  },
  {
   "cell_type": "code",
   "execution_count": null,
   "id": "919e075b",
   "metadata": {},
   "outputs": [],
   "source": []
  }
 ],
 "metadata": {
  "kernelspec": {
   "display_name": "Python 3 (ipykernel)",
   "language": "python",
   "name": "python3"
  },
  "language_info": {
   "codemirror_mode": {
    "name": "ipython",
    "version": 3
   },
   "file_extension": ".py",
   "mimetype": "text/x-python",
   "name": "python",
   "nbconvert_exporter": "python",
   "pygments_lexer": "ipython3",
   "version": "3.9.12"
  }
 },
 "nbformat": 4,
 "nbformat_minor": 5
}
