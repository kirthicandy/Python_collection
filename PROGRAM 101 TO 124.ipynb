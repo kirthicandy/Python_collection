{
 "cells": [
  {
   "cell_type": "markdown",
   "id": "70136dc6",
   "metadata": {},
   "source": [
    "# 101. Write a program to remove the duplicates from a given array of integers.\n",
    "\n"
   ]
  },
  {
   "cell_type": "code",
   "execution_count": 76,
   "id": "c874844a",
   "metadata": {},
   "outputs": [
    {
     "name": "stdout",
     "output_type": "stream",
     "text": [
      "Enter Array Elements:\n",
      "1 1 2 3 4 4 5 6 6 6\n",
      "1 2 3 4 5 6 "
     ]
    }
   ],
   "source": [
    "print(\"Enter Array Elements:\")     \n",
    "l=list(map(int,input().split()))\n",
    "l=set(l)\n",
    "l=list(l)\n",
    "for i in range(len(l)):\n",
    "    print(l[i],end=\" \")"
   ]
  },
  {
   "cell_type": "markdown",
   "id": "d8f47b71",
   "metadata": {},
   "source": [
    "# 102. Write a program to remove all instances of a given value in a given array of integers and return the length of the new array."
   ]
  },
  {
   "cell_type": "code",
   "execution_count": 77,
   "id": "f512c0f7",
   "metadata": {},
   "outputs": [
    {
     "name": "stdout",
     "output_type": "stream",
     "text": [
      "6\n",
      "0\n",
      "5\n",
      "0\n"
     ]
    }
   ],
   "source": [
    "def remove_element(array_nums, val):\n",
    "    i = 0\n",
    "    while i < len(array_nums):\n",
    "        if array_nums[i] == val:\n",
    "            array_nums.remove(array_nums[i])\n",
    "\n",
    "        else:\n",
    "            i += 1\n",
    "\n",
    "    return len(array_nums)\n",
    "print(remove_element([1, 2, 3, 4, 5, 6, 7, 5], 5))\n",
    "print(remove_element([10,10,10,10,10], 10)) \n",
    "print(remove_element([10,10,10,10,10], 20)) \n",
    "print(remove_element([], 1))"
   ]
  },
  {
   "cell_type": "markdown",
   "id": "3ffbba98",
   "metadata": {},
   "source": [
    "# Write a program to find the index of the first occurrence of a given string with in another given string. If not found return -1."
   ]
  },
  {
   "cell_type": "code",
   "execution_count": null,
   "id": "cb954bd7",
   "metadata": {},
   "outputs": [],
   "source": []
  },
  {
   "cell_type": "code",
   "execution_count": 7,
   "id": "f76df2f1",
   "metadata": {},
   "outputs": [
    {
     "name": "stdout",
     "output_type": "stream",
     "text": [
      "Please enter your own String : w3resource.com|\n",
      "Please enter your own Character : s\n",
      "The first Occurrence of  s  is Found at Position  5\n"
     ]
    }
   ],
   "source": [
    "string = input(\"Please enter your own String : \")\n",
    "char= input(\"Please enter your own Character : \")\n",
    "\n",
    "flag = 0\n",
    "for i in range(len(string)):\n",
    "    if(string[i] == char):\n",
    "        flag = 1\n",
    "        break\n",
    "\n",
    "if(flag == 0):\n",
    "    print(\"Sorry! We haven't found the Search Character in this string \")\n",
    "else:\n",
    "    print(\"The first Occurrence of \", char, \" is Found at Position \" , i + 1)"
   ]
  },
  {
   "cell_type": "code",
   "execution_count": 10,
   "id": "0811b0d4",
   "metadata": {},
   "outputs": [
    {
     "name": "stdout",
     "output_type": "stream",
     "text": [
      "5\n"
     ]
    }
   ],
   "source": [
    "def divide(dividend, divisor):\n",
    " \n",
    "    # Calculate sign of divisor i.e.,\n",
    "    # sign will be negative only if\n",
    "    # either one of them is negative\n",
    "    # otherwise it will be positive\n",
    "    sign = -1 if ((dividend < 0) ^ (divisor < 0)) else 1\n",
    " \n",
    "    # Update both divisor and\n",
    "    # dividend positive\n",
    "    dividend = abs(dividend)\n",
    "    divisor = abs(divisor)\n",
    " \n",
    "    # Initialize the quotient\n",
    "    quotient = 0\n",
    "    while (dividend >= divisor):\n",
    "        dividend -= divisor\n",
    "        quotient += 1\n",
    " \n",
    "     # if the sign value computed earlier is -1 then negate the value of quotient\n",
    " \n",
    "    if sign == -1:\n",
    "        quotient = -quotient\n",
    " \n",
    "    return quotient\n",
    " \n",
    " \n",
    "# Driver code\n",
    "a = 15\n",
    "b = 3\n",
    "print(divide(a, b))\n"
   ]
  },
  {
   "cell_type": "markdown",
   "id": "89fb29db",
   "metadata": {},
   "source": [
    "# Write a program to find the length of the longest valid (correct-formed) parentheses\n",
    "substring of a given string."
   ]
  },
  {
   "cell_type": "code",
   "execution_count": 14,
   "id": "2c642883",
   "metadata": {},
   "outputs": [
    {
     "name": "stdout",
     "output_type": "stream",
     "text": [
      "4\n"
     ]
    }
   ],
   "source": [
    "def findMaxLen(string):\n",
    "    n = len(string)\n",
    " \n",
    "    # Create a stack and push -1\n",
    "    # as initial index to it.\n",
    "    stk = []\n",
    "    stk.append(-1)\n",
    " \n",
    "    # Initialize result\n",
    "    result = 0\n",
    " \n",
    "    # Traverse all characters of given string\n",
    "    for i in range(n):\n",
    " \n",
    "        # If opening bracket, push index of it\n",
    "        if string[i] == '(':\n",
    "            stk.append(i)\n",
    "         \n",
    "        # If closing bracket, i.e., str[i] = ')'\n",
    "        else:  \n",
    " \n",
    "            # Pop the previous opening bracket's index\n",
    "            if len(stk) != 0:\n",
    "               stk.pop()\n",
    " \n",
    "            # Check if this length formed with base of\n",
    "            # current valid substring is more than max\n",
    "            # so far\n",
    "            if len(stk) != 0:\n",
    "                result = max(result,\n",
    "                             i - stk[len(stk)-1])\n",
    " \n",
    "            # If stack is empty. push current index as\n",
    "            # base for next valid substring (if any)\n",
    "            else:\n",
    "                stk.append(i)\n",
    " \n",
    "    return result\n",
    " \n",
    " \n",
    "# Driver code\n",
    "string = \"(()))\"\n",
    " \n",
    "# Function call\n",
    "print (findMaxLen(string))\n",
    " \n"
   ]
  },
  {
   "cell_type": "markdown",
   "id": "72784ba0",
   "metadata": {},
   "source": [
    "# The natural numbers below 10 that are multiples of 3 or 7 are 3, 7, 6 and 9. The sum of\n",
    "these multiples is 25."
   ]
  },
  {
   "cell_type": "code",
   "execution_count": 33,
   "id": "efca1062",
   "metadata": {},
   "outputs": [
    {
     "name": "stdout",
     "output_type": "stream",
     "text": [
      "2208\n"
     ]
    }
   ],
   "source": [
    "from numpy import integer\n",
    "count=0\n",
    "finalcount=0\n",
    "\n",
    "for i in range (10,99):\n",
    "    if i/18 == int(i/18):\n",
    "        count= count + 1\n",
    "        n=i\n",
    "        if sum([int(d) for d in str(n)])==18:\n",
    "            finalcount= finalcount + 1\n",
    "\n",
    "total_sum = 0\n",
    "for i in range(100):\n",
    "    if (i%3 == 0 or i%7 == 0):\n",
    "        total_sum = total_sum+i\n",
    "print (total_sum)"
   ]
  },
  {
   "cell_type": "markdown",
   "id": "0a65d9a7",
   "metadata": {},
   "source": [
    "# Write a programming to find the sum of the even-valued terms from the terms in the\n",
    "Fibonacci sequence whose values do not exceed one million."
   ]
  },
  {
   "cell_type": "code",
   "execution_count": 38,
   "id": "7c2e3d84",
   "metadata": {},
   "outputs": [
    {
     "name": "stdout",
     "output_type": "stream",
     "text": [
      "10\n"
     ]
    }
   ],
   "source": [
    "def evenFibSum(limit) :\n",
    "    if (limit < 2) :\n",
    "        return 0\n",
    " \n",
    "    # Initialize first two even Fibonacci numbers\n",
    "    # and their sum\n",
    "    ef1 = 0\n",
    "    ef2 = 2\n",
    "    sm= ef1 + ef2\n",
    "     \n",
    "    # calculating sum of even Fibonacci value\n",
    "    while (ef2 <= limit) :\n",
    " \n",
    "        # get next even value of Fibonacci\n",
    "        # sequence\n",
    "        ef3 = 4 * ef2 + ef1\n",
    " \n",
    "        # If we go beyond limit, we break loop\n",
    "        if (ef3 > limit) :\n",
    "            break\n",
    " \n",
    "        # Move to next even number and update\n",
    "        # sum\n",
    "        ef1 = ef2\n",
    "        ef2 = ef3\n",
    "        sm = sm + ef2\n",
    "     \n",
    "    return sm\n",
    " \n",
    "# Driver code\n",
    "limit = 10\n",
    "print(evenFibSum(limit))"
   ]
  },
  {
   "cell_type": "markdown",
   "id": "588798a7",
   "metadata": {},
   "source": [
    "# Write a programming to find the largest prime factor of the number 438927456?."
   ]
  },
  {
   "cell_type": "code",
   "execution_count": 42,
   "id": "0a36614f",
   "metadata": {},
   "outputs": [
    {
     "name": "stdout",
     "output_type": "stream",
     "text": [
      "415651\n"
     ]
    }
   ],
   "source": [
    "import math\n",
    "\n",
    "def maxPrimeFactors (n):\n",
    "     \n",
    "    # Initialize the maximum prime factor\n",
    "    # variable with the lowest one\n",
    "    maxPrime = -1\n",
    "     \n",
    "    # Print the number of 2s that divide n\n",
    "    while n % 2 == 0:\n",
    "        maxPrime = 2\n",
    "        n >>= 1     # equivalent to n /= 2\n",
    "         \n",
    "    # n must be odd at this point\n",
    "    while n % 3 == 0:\n",
    "        maxPrime = 3\n",
    "        n=n/3\n",
    "     \n",
    "    # now we have to iterate only for integers\n",
    "    # who does not have prime factor 2 and 3\n",
    "    for i in range(5, int(math.sqrt(n)) + 1, 6):\n",
    "        while n % i == 0:\n",
    "            maxPrime = i\n",
    "            n = n / i\n",
    "        while n % (i+2) == 0:\n",
    "            maxPrime = i+2\n",
    "            n = n / (i+2)\n",
    "         \n",
    "    # This condition is to handle the\n",
    "    # case when n is a prime number\n",
    "    # greater than 4\n",
    "    if n > 4:\n",
    "        maxPrime = n\n",
    "     \n",
    "    return int(maxPrime)\n",
    " \n",
    "# Driver code to test above function\n",
    "n = 438927456\n",
    "print(maxPrimeFactors(n))\n",
    " \n"
   ]
  },
  {
   "cell_type": "markdown",
   "id": "1e2e4c3f",
   "metadata": {},
   "source": [
    "# Write a programming to find the largest palindrome made from the product of two 3-digit\n",
    "numbers."
   ]
  },
  {
   "cell_type": "code",
   "execution_count": 45,
   "id": "aecbc669",
   "metadata": {},
   "outputs": [
    {
     "name": "stdout",
     "output_type": "stream",
     "text": [
      "906609\n"
     ]
    }
   ],
   "source": [
    "n = 0\n",
    "for a in range(999, 10, -1):\n",
    "    for b in range(a, 100, -1):\n",
    "        x = a * b\n",
    "        if x > n:\n",
    "            s = str(a * b)\n",
    "            if s == s[::-1]:\n",
    "                n = a * b\n",
    "print(n)"
   ]
  },
  {
   "cell_type": "markdown",
   "id": "4f05a009",
   "metadata": {},
   "source": [
    "# Write a programming to find the smallest positive number that is evenly divisible by all of the\n",
    "numbers from 1 to 20?"
   ]
  },
  {
   "cell_type": "code",
   "execution_count": 47,
   "id": "04a40645",
   "metadata": {},
   "outputs": [
    {
     "name": "stdout",
     "output_type": "stream",
     "text": [
      "232792560.0\n"
     ]
    }
   ],
   "source": [
    "def gcd(x,y): return y and gcd(y, x % y) or x\n",
    "def lcm(x,y): return x * y / gcd(x,y)\n",
    "\n",
    "n = 1\n",
    "for i in range(1, 21):\n",
    "     n = lcm(n, i)\n",
    "print(n)"
   ]
  },
  {
   "cell_type": "markdown",
   "id": "480b5630",
   "metadata": {},
   "source": [
    "# Write a programming to find the difference between the sum of the squares of the first one\n",
    "hundred natural numbers and the square of the sum."
   ]
  },
  {
   "cell_type": "code",
   "execution_count": 49,
   "id": "d38b0384",
   "metadata": {},
   "outputs": [
    {
     "name": "stdout",
     "output_type": "stream",
     "text": [
      "25164150\n"
     ]
    }
   ],
   "source": [
    "r = range(1, 101)\n",
    "a = sum(r)\n",
    "print (a * a - sum(i*i for i in r))\n"
   ]
  },
  {
   "cell_type": "markdown",
   "id": "76f61699",
   "metadata": {},
   "source": [
    "# Write a programming to get the 1001st prime number?"
   ]
  },
  {
   "cell_type": "code",
   "execution_count": 63,
   "id": "d0ddcf64",
   "metadata": {},
   "outputs": [],
   "source": [
    "def is_prime(n):\n",
    "    if n < 2:\n",
    "        return False\n",
    "    i = 2\n",
    "    while (i * i <= n):\n",
    "        if n % i == 0:\n",
    "            return False\n",
    "        i = i + 1\n",
    "    return True\n",
    "\n",
    "def n_prime(n):\n",
    "    i = 2\n",
    "    while n > 0:\n",
    "        if is_prime(i):\n",
    "            n = n - 1\n",
    "            if n == 0:\n",
    "                return i\n",
    "        i = i + 1\n",
    "    return -1\n",
    "\n",
    "    print (n_prime(1001))"
   ]
  },
  {
   "cell_type": "markdown",
   "id": "c85f49cb",
   "metadata": {},
   "source": [
    "# Write a programming to find the thirteen adjacent digits in the 1000-digit number that have\n",
    "the greatest product. What is the value of this product?"
   ]
  },
  {
   "cell_type": "code",
   "execution_count": 73,
   "id": "007bb1e1",
   "metadata": {},
   "outputs": [],
   "source": [
    "from functools import reduce\n",
    "import operator\n",
    "\n",
    "def cut_adj_chunks(iterable, chunk_size):\n",
    "    for i in range(len(iterable) - chunk_size):\n",
    "        yield iterable[i:i+chunk_size]\n",
    "\n",
    "def sum_prod(num_str):\n",
    "    num_list = map(int, num_str)\n",
    "    return reduce(operator.mul, num_list, 1)\n",
    "\n",
    "def largest_prod(adj_digits, big_num):\n",
    "    return max(sum_prod(chunk) for chunk in cut_adj_chunks(str(big_num), adj_digits))"
   ]
  },
  {
   "cell_type": "markdown",
   "id": "e5291e45",
   "metadata": {},
   "source": [
    "# 114. A Pythagorean triplet is a set of three natural numbers, x < y < z, for which, x 2 + y2 = z2"
   ]
  },
  {
   "cell_type": "code",
   "execution_count": null,
   "id": "e6c93913",
   "metadata": {},
   "outputs": [],
   "source": []
  },
  {
   "cell_type": "code",
   "execution_count": 74,
   "id": "2ed9737f",
   "metadata": {},
   "outputs": [
    {
     "name": "stdout",
     "output_type": "stream",
     "text": [
      "3, 4, 5\n"
     ]
    }
   ],
   "source": [
    "def pythagoreanTriplet(n):\n",
    " \n",
    "    # Considering triplets in\n",
    "    # sorted order. The value\n",
    "    # of first element in sorted\n",
    "    # triplet can be at-most n/3.\n",
    "    for i in range(1, int(n / 3) + 1):\n",
    "         \n",
    "        # The value of second element\n",
    "        # must be less than equal to n/2\n",
    "        for j in range(i + 1,\n",
    "                       int(n / 2) + 1):\n",
    " \n",
    "            k = n - i - j\n",
    "            if (i * i + j * j == k * k):\n",
    "                print(i, \", \", j, \", \",\n",
    "                               k, sep = \"\")\n",
    "                return\n",
    "     \n",
    "    print(\"No Triplet\")\n",
    "     \n",
    "# Driver Code\n",
    "n = 12\n",
    "pythagoreanTriplet(n)"
   ]
  },
  {
   "cell_type": "markdown",
   "id": "51f00749",
   "metadata": {},
   "source": [
    "# Write a programming to find the sum of all the primes below ten thousand."
   ]
  },
  {
   "cell_type": "code",
   "execution_count": 80,
   "id": "f2aa344d",
   "metadata": {},
   "outputs": [
    {
     "name": "stdout",
     "output_type": "stream",
     "text": [
      "5736396\n"
     ]
    }
   ],
   "source": [
    "from math import sqrt\n",
    " \n",
    "# Function to compute the prime number\n",
    "# Time Complexity is O(sqrt(N))\n",
    "def checkPrime(numberToCheck) :\n",
    " \n",
    "    if numberToCheck == 1 :\n",
    "        return False\n",
    " \n",
    "    for i in range(2, int(sqrt(numberToCheck)) + 1) :\n",
    " \n",
    "        if numberToCheck % i == 0 :\n",
    "            return False\n",
    " \n",
    "    return True\n",
    " \n",
    "# Function to iterate the loop\n",
    "# from l to r. If the current\n",
    "# number is prime, sum the value\n",
    "def primeSum(l, r) :\n",
    " \n",
    "    sum = 0\n",
    " \n",
    "    for i in range(r, (l - 1), -1) :\n",
    " \n",
    "        # Check for prime\n",
    "        isPrime = checkPrime(i)\n",
    "         \n",
    "        if (isPrime) :\n",
    " \n",
    "            # Sum the prime number\n",
    "            sum += i\n",
    " \n",
    "    return sum\n",
    " \n",
    "# Time Complexity is O(r x sqrt(N))\n",
    " \n",
    "# Driver code    \n",
    "if __name__ == \"__main__\" :\n",
    " \n",
    "    l, r = 1, 10001\n",
    " \n",
    "    # Call the function with l and r\n",
    "    print(primeSum(l, r))"
   ]
  },
  {
   "cell_type": "markdown",
   "id": "3b64dd72",
   "metadata": {},
   "source": [
    "# Write a program to generate a text calendar for any given year."
   ]
  },
  {
   "cell_type": "code",
   "execution_count": 85,
   "id": "83477509",
   "metadata": {},
   "outputs": [
    {
     "name": "stdout",
     "output_type": "stream",
     "text": [
      "The calendar of year 2022 is : \n",
      "                                  2022\n",
      "\n",
      "      January                   February                   March\n",
      "Mo Tu We Th Fr Sa Su      Mo Tu We Th Fr Sa Su      Mo Tu We Th Fr Sa Su\n",
      "                1  2          1  2  3  4  5  6          1  2  3  4  5  6\n",
      " 3  4  5  6  7  8  9       7  8  9 10 11 12 13       7  8  9 10 11 12 13\n",
      "10 11 12 13 14 15 16      14 15 16 17 18 19 20      14 15 16 17 18 19 20\n",
      "17 18 19 20 21 22 23      21 22 23 24 25 26 27      21 22 23 24 25 26 27\n",
      "24 25 26 27 28 29 30      28                        28 29 30 31\n",
      "31\n",
      "\n",
      "       April                      May                       June\n",
      "Mo Tu We Th Fr Sa Su      Mo Tu We Th Fr Sa Su      Mo Tu We Th Fr Sa Su\n",
      "             1  2  3                         1             1  2  3  4  5\n",
      " 4  5  6  7  8  9 10       2  3  4  5  6  7  8       6  7  8  9 10 11 12\n",
      "11 12 13 14 15 16 17       9 10 11 12 13 14 15      13 14 15 16 17 18 19\n",
      "18 19 20 21 22 23 24      16 17 18 19 20 21 22      20 21 22 23 24 25 26\n",
      "25 26 27 28 29 30         23 24 25 26 27 28 29      27 28 29 30\n",
      "                          30 31\n",
      "\n",
      "        July                     August                  September\n",
      "Mo Tu We Th Fr Sa Su      Mo Tu We Th Fr Sa Su      Mo Tu We Th Fr Sa Su\n",
      "             1  2  3       1  2  3  4  5  6  7                1  2  3  4\n",
      " 4  5  6  7  8  9 10       8  9 10 11 12 13 14       5  6  7  8  9 10 11\n",
      "11 12 13 14 15 16 17      15 16 17 18 19 20 21      12 13 14 15 16 17 18\n",
      "18 19 20 21 22 23 24      22 23 24 25 26 27 28      19 20 21 22 23 24 25\n",
      "25 26 27 28 29 30 31      29 30 31                  26 27 28 29 30\n",
      "\n",
      "      October                   November                  December\n",
      "Mo Tu We Th Fr Sa Su      Mo Tu We Th Fr Sa Su      Mo Tu We Th Fr Sa Su\n",
      "                1  2          1  2  3  4  5  6                1  2  3  4\n",
      " 3  4  5  6  7  8  9       7  8  9 10 11 12 13       5  6  7  8  9 10 11\n",
      "10 11 12 13 14 15 16      14 15 16 17 18 19 20      12 13 14 15 16 17 18\n",
      "17 18 19 20 21 22 23      21 22 23 24 25 26 27      19 20 21 22 23 24 25\n",
      "24 25 26 27 28 29 30      28 29 30                  26 27 28 29 30 31\n",
      "31\n",
      "\n",
      "The starting day number in calendar is : 0\n"
     ]
    }
   ],
   "source": [
    "import calendar\n",
    " \n",
    "# using calendar to print calendar of year\n",
    "# prints calendar of 2012\n",
    "print (\"The calendar of year 2022 is : \")\n",
    "print (calendar.calendar(2022,2,1,6))\n",
    " \n",
    "#using firstweekday() to print starting day number\n",
    "print (\"The starting day number in calendar is : \",end=\"\")\n",
    "print (calendar.firstweekday())"
   ]
  },
  {
   "cell_type": "markdown",
   "id": "10f0ea2a",
   "metadata": {},
   "source": [
    "# Write a program to generate the attractive numbers up to 100."
   ]
  },
  {
   "cell_type": "code",
   "execution_count": 87,
   "id": "d8913e91",
   "metadata": {},
   "outputs": [
    {
     "name": "stdout",
     "output_type": "stream",
     "text": [
      "The list of happy numbers between 1 and 100 are : \n",
      "1\n",
      "7\n",
      "10\n",
      "13\n",
      "19\n",
      "23\n",
      "28\n",
      "31\n",
      "32\n",
      "44\n",
      "49\n",
      "68\n",
      "70\n",
      "79\n",
      "82\n",
      "86\n",
      "91\n",
      "94\n",
      "97\n",
      "100\n"
     ]
    }
   ],
   "source": [
    "def check_happy_num(my_num):\n",
    "   remaining = sum_val = 0\n",
    "   while(my_num > 0):\n",
    "      remaining = my_num%10\n",
    "      sum_val = sum_val + (remaining*remaining)\n",
    "      my_num = my_num//10\n",
    "   return sum_val\n",
    "print(\"The list of happy numbers between 1 and 100 are : \")\n",
    "for i in range(1, 101):\n",
    "   my_result = i\n",
    "   while(my_result != 1 and my_result != 4):\n",
    "      my_result = check_happy_num(my_result)\n",
    "   if(my_result == 1):\n",
    "      print(i)"
   ]
  },
  {
   "cell_type": "markdown",
   "id": "b72c54eb",
   "metadata": {},
   "source": [
    "# Write a program to create and display all prime numbers in strictly descending decimal digit order."
   ]
  },
  {
   "cell_type": "code",
   "execution_count": 89,
   "id": "36f0a5dc",
   "metadata": {},
   "outputs": [
    {
     "name": "stdout",
     "output_type": "stream",
     "text": [
      "431 421 97 83 73 71 61 53 43 41 31 7 5 3 2 "
     ]
    }
   ],
   "source": [
    "def SieveOfEratosthenes(n):\n",
    " \n",
    "    # false here indicates\n",
    "    # that it is not prime\n",
    "    prime[1] = False\n",
    "    p = 2\n",
    "    while p * p <= n:\n",
    " \n",
    "        # If prime[p] is not changed,\n",
    "        # then it is a prime\n",
    "        if prime[p]:\n",
    " \n",
    "            # Update all multiples of p,\n",
    "            # set them to non-prime\n",
    "            for i in range(p * 2, n + 1, p):\n",
    "                prime[i] = False\n",
    "         \n",
    "        p += 1\n",
    " \n",
    "# Function that sorts all the prime\n",
    "# numbers from the array in descending\n",
    "def sortPrimes(arr, n):\n",
    " \n",
    "    SieveOfEratosthenes(100005)\n",
    " \n",
    "    # This vector will contain\n",
    "    # prime numbers to sort\n",
    "    v = []\n",
    "    for i in range(0, n):\n",
    " \n",
    "        # If the element is prime\n",
    "        if prime[arr[i]]:\n",
    "            v.append(arr[i])\n",
    " \n",
    "    v.sort(reverse = True)\n",
    "    j = 0\n",
    " \n",
    "    # update the array elements\n",
    "    for i in range(0, n):\n",
    "        if prime[arr[i]]:\n",
    "            arr[i] = v[j]\n",
    "            j += 1\n",
    "             \n",
    "    return arr\n",
    "     \n",
    "# Driver code\n",
    "if __name__ == \"__main__\":\n",
    " \n",
    "    arr = [2, 3, 5, 7, 31, 41, 43, 53, 61, 71, 73, 83, 97, 421, 431]\n",
    "    n = len(arr)\n",
    "     \n",
    "    prime = [True] * 100006\n",
    "    arr = sortPrimes(arr, n)\n",
    " \n",
    "    # print the results.\n",
    "    for i in range(0, n):\n",
    "        print(arr[i], end = \" \")"
   ]
  },
  {
   "cell_type": "code",
   "execution_count": null,
   "id": "36a787be",
   "metadata": {},
   "outputs": [],
   "source": []
  }
 ],
 "metadata": {
  "kernelspec": {
   "display_name": "Python 3 (ipykernel)",
   "language": "python",
   "name": "python3"
  },
  "language_info": {
   "codemirror_mode": {
    "name": "ipython",
    "version": 3
   },
   "file_extension": ".py",
   "mimetype": "text/x-python",
   "name": "python",
   "nbconvert_exporter": "python",
   "pygments_lexer": "ipython3",
   "version": "3.9.12"
  }
 },
 "nbformat": 4,
 "nbformat_minor": 5
}
